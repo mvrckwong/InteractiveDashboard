{
 "cells": [
  {
   "cell_type": "markdown",
   "metadata": {},
   "source": [
    "<div class=\"alert alert-block alert-info text-center\">\n",
    "    <H1> PHASE II </H1>\n",
    "</div>\n",
    "\n",
    "## Plotly\n",
    "\n",
    "- This is a long notebook because I want to have all the info in the same place for you to explore\n",
    "- Creating the charts needed for our dashboard. Basic charts, Candlestick, Sunburst, and others\n",
    "- You will also learn how to use Dash and create your first Dash app with Python"
   ]
  },
  {
   "cell_type": "code",
   "execution_count": 3,
   "metadata": {},
   "outputs": [
    {
     "ename": "ModuleNotFoundError",
     "evalue": "No module named 'dash_bootstrap_components'",
     "output_type": "error",
     "traceback": [
      "\u001b[0;31m---------------------------------------------------------------------------\u001b[0m",
      "\u001b[0;31mModuleNotFoundError\u001b[0m                       Traceback (most recent call last)",
      "Cell \u001b[0;32mIn[3], line 12\u001b[0m\n\u001b[1;32m     10\u001b[0m \u001b[38;5;28;01mfrom\u001b[39;00m \u001b[38;5;21;01mdash\u001b[39;00m\u001b[38;5;21;01m.\u001b[39;00m\u001b[38;5;21;01mdependencies\u001b[39;00m \u001b[38;5;28;01mimport\u001b[39;00m Output, Input\n\u001b[1;32m     11\u001b[0m \u001b[38;5;28;01mimport\u001b[39;00m \u001b[38;5;21;01mplotly\u001b[39;00m\u001b[38;5;21;01m.\u001b[39;00m\u001b[38;5;21;01mexpress\u001b[39;00m \u001b[38;5;28;01mas\u001b[39;00m \u001b[38;5;21;01mpx\u001b[39;00m\n\u001b[0;32m---> 12\u001b[0m \u001b[38;5;28;01mimport\u001b[39;00m \u001b[38;5;21;01mdash_bootstrap_components\u001b[39;00m \u001b[38;5;28;01mas\u001b[39;00m \u001b[38;5;21;01mdbc\u001b[39;00m\n\u001b[1;32m     13\u001b[0m \u001b[38;5;28;01mimport\u001b[39;00m \u001b[38;5;21;01mplotly\u001b[39;00m\u001b[38;5;21;01m.\u001b[39;00m\u001b[38;5;21;01mgraph_objects\u001b[39;00m \u001b[38;5;28;01mas\u001b[39;00m \u001b[38;5;21;01mgo\u001b[39;00m\n\u001b[1;32m     14\u001b[0m \u001b[38;5;28;01mfrom\u001b[39;00m \u001b[38;5;21;01mdash\u001b[39;00m \u001b[38;5;28;01mimport\u001b[39;00m dash_table\n",
      "\u001b[0;31mModuleNotFoundError\u001b[0m: No module named 'dash_bootstrap_components'"
     ]
    }
   ],
   "source": [
    "import pandas as pd\n",
    "from glob import glob\n",
    "from time import strftime, sleep\n",
    "import numpy as np\n",
    "from datetime import datetime\n",
    "\n",
    "import dash\n",
    "from dash import dcc\n",
    "from dash import html\n",
    "from dash.dependencies import Output, Input\n",
    "import plotly.express as px\n",
    "import dash_bootstrap_components as dbc\n",
    "import plotly.graph_objects as go\n",
    "from dash import dash_table\n",
    "from jupyter_dash import JupyterDash\n",
    "from plotly.subplots import make_subplots\n",
    "\n",
    "def clean_header(df):\n",
    "    df.columns = df.columns.str.strip().str.lower().str.replace('.', '', regex=False).str.replace('(', \\\n",
    "                '', regex=False).str.replace(')', '', regex=False).str.replace(' ', '_', regex=False).str.replace('_/_', '/', regex=False)\n",
    "    \n",
    "def get_now():\n",
    "    now = datetime.now().strftime('%Y-%m-%d_%Hh%Mm')\n",
    "    return now\n",
    "\n",
    "def datetime_maker(df, datecol):\n",
    "    df[datecol] = pd.to_datetime(df[datecol])"
   ]
  },
  {
   "cell_type": "markdown",
   "metadata": {},
   "source": [
    "#### Import the last transactions_finaldf from Phase I"
   ]
  },
  {
   "cell_type": "code",
   "execution_count": 4,
   "metadata": {},
   "outputs": [
    {
     "name": "stdout",
     "output_type": "stream",
     "text": [
      "transactions_finaldf_2021-12-02_02h36m.xlsx\n"
     ]
    },
    {
     "ename": "ImportError",
     "evalue": "Missing optional dependency 'openpyxl'.  Use pip or conda to install openpyxl.",
     "output_type": "error",
     "traceback": [
      "\u001b[0;31m---------------------------------------------------------------------------\u001b[0m",
      "\u001b[0;31mModuleNotFoundError\u001b[0m                       Traceback (most recent call last)",
      "File \u001b[0;32m/Library/Frameworks/Python.framework/Versions/3.11/lib/python3.11/site-packages/pandas/compat/_optional.py:135\u001b[0m, in \u001b[0;36mimport_optional_dependency\u001b[0;34m(name, extra, errors, min_version)\u001b[0m\n\u001b[1;32m    134\u001b[0m \u001b[38;5;28;01mtry\u001b[39;00m:\n\u001b[0;32m--> 135\u001b[0m     module \u001b[38;5;241m=\u001b[39m \u001b[43mimportlib\u001b[49m\u001b[38;5;241;43m.\u001b[39;49m\u001b[43mimport_module\u001b[49m\u001b[43m(\u001b[49m\u001b[43mname\u001b[49m\u001b[43m)\u001b[49m\n\u001b[1;32m    136\u001b[0m \u001b[38;5;28;01mexcept\u001b[39;00m \u001b[38;5;167;01mImportError\u001b[39;00m:\n",
      "File \u001b[0;32m/Library/Frameworks/Python.framework/Versions/3.11/lib/python3.11/importlib/__init__.py:126\u001b[0m, in \u001b[0;36mimport_module\u001b[0;34m(name, package)\u001b[0m\n\u001b[1;32m    125\u001b[0m         level \u001b[38;5;241m+\u001b[39m\u001b[38;5;241m=\u001b[39m \u001b[38;5;241m1\u001b[39m\n\u001b[0;32m--> 126\u001b[0m \u001b[38;5;28;01mreturn\u001b[39;00m \u001b[43m_bootstrap\u001b[49m\u001b[38;5;241;43m.\u001b[39;49m\u001b[43m_gcd_import\u001b[49m\u001b[43m(\u001b[49m\u001b[43mname\u001b[49m\u001b[43m[\u001b[49m\u001b[43mlevel\u001b[49m\u001b[43m:\u001b[49m\u001b[43m]\u001b[49m\u001b[43m,\u001b[49m\u001b[43m \u001b[49m\u001b[43mpackage\u001b[49m\u001b[43m,\u001b[49m\u001b[43m \u001b[49m\u001b[43mlevel\u001b[49m\u001b[43m)\u001b[49m\n",
      "File \u001b[0;32m<frozen importlib._bootstrap>:1204\u001b[0m, in \u001b[0;36m_gcd_import\u001b[0;34m(name, package, level)\u001b[0m\n",
      "File \u001b[0;32m<frozen importlib._bootstrap>:1176\u001b[0m, in \u001b[0;36m_find_and_load\u001b[0;34m(name, import_)\u001b[0m\n",
      "File \u001b[0;32m<frozen importlib._bootstrap>:1140\u001b[0m, in \u001b[0;36m_find_and_load_unlocked\u001b[0;34m(name, import_)\u001b[0m\n",
      "\u001b[0;31mModuleNotFoundError\u001b[0m: No module named 'openpyxl'",
      "\nDuring handling of the above exception, another exception occurred:\n",
      "\u001b[0;31mImportError\u001b[0m                               Traceback (most recent call last)",
      "Cell \u001b[0;32mIn[4], line 3\u001b[0m\n\u001b[1;32m      1\u001b[0m last_file \u001b[38;5;241m=\u001b[39m \u001b[38;5;28msorted\u001b[39m(glob(\u001b[38;5;124m'\u001b[39m\u001b[38;5;124m../outputs/transactions_all/*finaldf*.xlsx\u001b[39m\u001b[38;5;124m'\u001b[39m))[\u001b[38;5;241m-\u001b[39m\u001b[38;5;241m1\u001b[39m] \u001b[38;5;66;03m# path to file in the folder\u001b[39;00m\n\u001b[1;32m      2\u001b[0m \u001b[38;5;28mprint\u001b[39m(last_file[\u001b[38;5;241m-\u001b[39m(\u001b[38;5;28mlen\u001b[39m(last_file))\u001b[38;5;241m+\u001b[39m(last_file\u001b[38;5;241m.\u001b[39mrfind(\u001b[38;5;124m'\u001b[39m\u001b[38;5;124m/\u001b[39m\u001b[38;5;124m'\u001b[39m)\u001b[38;5;241m+\u001b[39m\u001b[38;5;241m1\u001b[39m):])\n\u001b[0;32m----> 3\u001b[0m all_transactions \u001b[38;5;241m=\u001b[39m \u001b[43mpd\u001b[49m\u001b[38;5;241;43m.\u001b[39;49m\u001b[43mread_excel\u001b[49m\u001b[43m(\u001b[49m\u001b[43mlast_file\u001b[49m\u001b[43m,\u001b[49m\u001b[43m \u001b[49m\u001b[43mengine\u001b[49m\u001b[38;5;241;43m=\u001b[39;49m\u001b[38;5;124;43m'\u001b[39;49m\u001b[38;5;124;43mopenpyxl\u001b[39;49m\u001b[38;5;124;43m'\u001b[39;49m\u001b[43m)\u001b[49m\n\u001b[1;32m      4\u001b[0m all_transactions\u001b[38;5;241m.\u001b[39mdate \u001b[38;5;241m=\u001b[39m pd\u001b[38;5;241m.\u001b[39mto_datetime(all_transactions\u001b[38;5;241m.\u001b[39mdate, \u001b[38;5;28mformat\u001b[39m\u001b[38;5;241m=\u001b[39m\u001b[38;5;124m'\u001b[39m\u001b[38;5;132;01m%d\u001b[39;00m\u001b[38;5;124m/\u001b[39m\u001b[38;5;124m%\u001b[39m\u001b[38;5;124mm/\u001b[39m\u001b[38;5;124m%\u001b[39m\u001b[38;5;124mY\u001b[39m\u001b[38;5;124m'\u001b[39m)\n",
      "File \u001b[0;32m/Library/Frameworks/Python.framework/Versions/3.11/lib/python3.11/site-packages/pandas/io/excel/_base.py:495\u001b[0m, in \u001b[0;36mread_excel\u001b[0;34m(io, sheet_name, header, names, index_col, usecols, dtype, engine, converters, true_values, false_values, skiprows, nrows, na_values, keep_default_na, na_filter, verbose, parse_dates, date_parser, date_format, thousands, decimal, comment, skipfooter, storage_options, dtype_backend, engine_kwargs)\u001b[0m\n\u001b[1;32m    493\u001b[0m \u001b[38;5;28;01mif\u001b[39;00m \u001b[38;5;129;01mnot\u001b[39;00m \u001b[38;5;28misinstance\u001b[39m(io, ExcelFile):\n\u001b[1;32m    494\u001b[0m     should_close \u001b[38;5;241m=\u001b[39m \u001b[38;5;28;01mTrue\u001b[39;00m\n\u001b[0;32m--> 495\u001b[0m     io \u001b[38;5;241m=\u001b[39m \u001b[43mExcelFile\u001b[49m\u001b[43m(\u001b[49m\n\u001b[1;32m    496\u001b[0m \u001b[43m        \u001b[49m\u001b[43mio\u001b[49m\u001b[43m,\u001b[49m\n\u001b[1;32m    497\u001b[0m \u001b[43m        \u001b[49m\u001b[43mstorage_options\u001b[49m\u001b[38;5;241;43m=\u001b[39;49m\u001b[43mstorage_options\u001b[49m\u001b[43m,\u001b[49m\n\u001b[1;32m    498\u001b[0m \u001b[43m        \u001b[49m\u001b[43mengine\u001b[49m\u001b[38;5;241;43m=\u001b[39;49m\u001b[43mengine\u001b[49m\u001b[43m,\u001b[49m\n\u001b[1;32m    499\u001b[0m \u001b[43m        \u001b[49m\u001b[43mengine_kwargs\u001b[49m\u001b[38;5;241;43m=\u001b[39;49m\u001b[43mengine_kwargs\u001b[49m\u001b[43m,\u001b[49m\n\u001b[1;32m    500\u001b[0m \u001b[43m    \u001b[49m\u001b[43m)\u001b[49m\n\u001b[1;32m    501\u001b[0m \u001b[38;5;28;01melif\u001b[39;00m engine \u001b[38;5;129;01mand\u001b[39;00m engine \u001b[38;5;241m!=\u001b[39m io\u001b[38;5;241m.\u001b[39mengine:\n\u001b[1;32m    502\u001b[0m     \u001b[38;5;28;01mraise\u001b[39;00m \u001b[38;5;167;01mValueError\u001b[39;00m(\n\u001b[1;32m    503\u001b[0m         \u001b[38;5;124m\"\u001b[39m\u001b[38;5;124mEngine should not be specified when passing \u001b[39m\u001b[38;5;124m\"\u001b[39m\n\u001b[1;32m    504\u001b[0m         \u001b[38;5;124m\"\u001b[39m\u001b[38;5;124man ExcelFile - ExcelFile already has the engine set\u001b[39m\u001b[38;5;124m\"\u001b[39m\n\u001b[1;32m    505\u001b[0m     )\n",
      "File \u001b[0;32m/Library/Frameworks/Python.framework/Versions/3.11/lib/python3.11/site-packages/pandas/io/excel/_base.py:1567\u001b[0m, in \u001b[0;36mExcelFile.__init__\u001b[0;34m(self, path_or_buffer, engine, storage_options, engine_kwargs)\u001b[0m\n\u001b[1;32m   1564\u001b[0m \u001b[38;5;28mself\u001b[39m\u001b[38;5;241m.\u001b[39mengine \u001b[38;5;241m=\u001b[39m engine\n\u001b[1;32m   1565\u001b[0m \u001b[38;5;28mself\u001b[39m\u001b[38;5;241m.\u001b[39mstorage_options \u001b[38;5;241m=\u001b[39m storage_options\n\u001b[0;32m-> 1567\u001b[0m \u001b[38;5;28mself\u001b[39m\u001b[38;5;241m.\u001b[39m_reader \u001b[38;5;241m=\u001b[39m \u001b[38;5;28;43mself\u001b[39;49m\u001b[38;5;241;43m.\u001b[39;49m\u001b[43m_engines\u001b[49m\u001b[43m[\u001b[49m\u001b[43mengine\u001b[49m\u001b[43m]\u001b[49m\u001b[43m(\u001b[49m\n\u001b[1;32m   1568\u001b[0m \u001b[43m    \u001b[49m\u001b[38;5;28;43mself\u001b[39;49m\u001b[38;5;241;43m.\u001b[39;49m\u001b[43m_io\u001b[49m\u001b[43m,\u001b[49m\n\u001b[1;32m   1569\u001b[0m \u001b[43m    \u001b[49m\u001b[43mstorage_options\u001b[49m\u001b[38;5;241;43m=\u001b[39;49m\u001b[43mstorage_options\u001b[49m\u001b[43m,\u001b[49m\n\u001b[1;32m   1570\u001b[0m \u001b[43m    \u001b[49m\u001b[43mengine_kwargs\u001b[49m\u001b[38;5;241;43m=\u001b[39;49m\u001b[43mengine_kwargs\u001b[49m\u001b[43m,\u001b[49m\n\u001b[1;32m   1571\u001b[0m \u001b[43m\u001b[49m\u001b[43m)\u001b[49m\n",
      "File \u001b[0;32m/Library/Frameworks/Python.framework/Versions/3.11/lib/python3.11/site-packages/pandas/io/excel/_openpyxl.py:552\u001b[0m, in \u001b[0;36mOpenpyxlReader.__init__\u001b[0;34m(self, filepath_or_buffer, storage_options, engine_kwargs)\u001b[0m\n\u001b[1;32m    534\u001b[0m \u001b[38;5;129m@doc\u001b[39m(storage_options\u001b[38;5;241m=\u001b[39m_shared_docs[\u001b[38;5;124m\"\u001b[39m\u001b[38;5;124mstorage_options\u001b[39m\u001b[38;5;124m\"\u001b[39m])\n\u001b[1;32m    535\u001b[0m \u001b[38;5;28;01mdef\u001b[39;00m \u001b[38;5;21m__init__\u001b[39m(\n\u001b[1;32m    536\u001b[0m     \u001b[38;5;28mself\u001b[39m,\n\u001b[0;32m   (...)\u001b[0m\n\u001b[1;32m    539\u001b[0m     engine_kwargs: \u001b[38;5;28mdict\u001b[39m \u001b[38;5;241m|\u001b[39m \u001b[38;5;28;01mNone\u001b[39;00m \u001b[38;5;241m=\u001b[39m \u001b[38;5;28;01mNone\u001b[39;00m,\n\u001b[1;32m    540\u001b[0m ) \u001b[38;5;241m-\u001b[39m\u001b[38;5;241m>\u001b[39m \u001b[38;5;28;01mNone\u001b[39;00m:\n\u001b[1;32m    541\u001b[0m \u001b[38;5;250m    \u001b[39m\u001b[38;5;124;03m\"\"\"\u001b[39;00m\n\u001b[1;32m    542\u001b[0m \u001b[38;5;124;03m    Reader using openpyxl engine.\u001b[39;00m\n\u001b[1;32m    543\u001b[0m \n\u001b[0;32m   (...)\u001b[0m\n\u001b[1;32m    550\u001b[0m \u001b[38;5;124;03m        Arbitrary keyword arguments passed to excel engine.\u001b[39;00m\n\u001b[1;32m    551\u001b[0m \u001b[38;5;124;03m    \"\"\"\u001b[39;00m\n\u001b[0;32m--> 552\u001b[0m     \u001b[43mimport_optional_dependency\u001b[49m\u001b[43m(\u001b[49m\u001b[38;5;124;43m\"\u001b[39;49m\u001b[38;5;124;43mopenpyxl\u001b[39;49m\u001b[38;5;124;43m\"\u001b[39;49m\u001b[43m)\u001b[49m\n\u001b[1;32m    553\u001b[0m     \u001b[38;5;28msuper\u001b[39m()\u001b[38;5;241m.\u001b[39m\u001b[38;5;21m__init__\u001b[39m(\n\u001b[1;32m    554\u001b[0m         filepath_or_buffer,\n\u001b[1;32m    555\u001b[0m         storage_options\u001b[38;5;241m=\u001b[39mstorage_options,\n\u001b[1;32m    556\u001b[0m         engine_kwargs\u001b[38;5;241m=\u001b[39mengine_kwargs,\n\u001b[1;32m    557\u001b[0m     )\n",
      "File \u001b[0;32m/Library/Frameworks/Python.framework/Versions/3.11/lib/python3.11/site-packages/pandas/compat/_optional.py:138\u001b[0m, in \u001b[0;36mimport_optional_dependency\u001b[0;34m(name, extra, errors, min_version)\u001b[0m\n\u001b[1;32m    136\u001b[0m \u001b[38;5;28;01mexcept\u001b[39;00m \u001b[38;5;167;01mImportError\u001b[39;00m:\n\u001b[1;32m    137\u001b[0m     \u001b[38;5;28;01mif\u001b[39;00m errors \u001b[38;5;241m==\u001b[39m \u001b[38;5;124m\"\u001b[39m\u001b[38;5;124mraise\u001b[39m\u001b[38;5;124m\"\u001b[39m:\n\u001b[0;32m--> 138\u001b[0m         \u001b[38;5;28;01mraise\u001b[39;00m \u001b[38;5;167;01mImportError\u001b[39;00m(msg)\n\u001b[1;32m    139\u001b[0m     \u001b[38;5;28;01mreturn\u001b[39;00m \u001b[38;5;28;01mNone\u001b[39;00m\n\u001b[1;32m    141\u001b[0m \u001b[38;5;66;03m# Handle submodules: if we have submodule, grab parent module from sys.modules\u001b[39;00m\n",
      "\u001b[0;31mImportError\u001b[0m: Missing optional dependency 'openpyxl'.  Use pip or conda to install openpyxl."
     ]
    }
   ],
   "source": [
    "last_file = sorted(glob('../outputs/transactions_all/*finaldf*.xlsx'))[-1] # path to file in the folder\n",
    "print(last_file[-(len(last_file))+(last_file.rfind('/')+1):])\n",
    "all_transactions = pd.read_excel(last_file, engine='openpyxl')\n",
    "all_transactions.date = pd.to_datetime(all_transactions.date, format='%d/%m/%Y')"
   ]
  },
  {
   "cell_type": "markdown",
   "metadata": {},
   "source": [
    "#### Import the last portfolio_df from Phase II"
   ]
  },
  {
   "cell_type": "code",
   "execution_count": null,
   "metadata": {},
   "outputs": [],
   "source": [
    "last_file = sorted(glob('../outputs/portfolio_df/portfolio_df_*.csv'))[-1] # path to file in the folder\n",
    "print(last_file[-(len(last_file))+(last_file.rfind('/')+1):])\n",
    "portf_allvalues = pd.read_csv(last_file)\n",
    "portf_allvalues = portf_allvalues.set_index('date')"
   ]
  },
  {
   "cell_type": "markdown",
   "metadata": {},
   "source": [
    "#### Import the last final_current_positions from Phase II"
   ]
  },
  {
   "cell_type": "code",
   "execution_count": null,
   "metadata": {},
   "outputs": [],
   "source": [
    "last_file = sorted(glob('../outputs/final_current_positions/final_current_positions_*.csv'))[-1] # path to file in the folder\n",
    "print(last_file[-(len(last_file))+(last_file.rfind('/')+1):])\n",
    "current_positions = pd.read_csv(last_file)\n",
    "current_positions = current_positions.sort_values(by='current_value', ascending=False).round(2)"
   ]
  },
  {
   "cell_type": "code",
   "execution_count": null,
   "metadata": {},
   "outputs": [],
   "source": []
  },
  {
   "cell_type": "markdown",
   "metadata": {},
   "source": [
    "## Portfolio Charts\n",
    "\n",
    "- Portfolio Value - First we prepare two smaller dataframes with our portfolio value and our invested value.\n",
    "- Drawdown percentage - This will tell us the distance from previous portfolio high\n",
    "- Buy/Sell orders - Visually identify months where you were more active\n",
    "- Growth comparison vs SP500 - Some may prefer this chart"
   ]
  },
  {
   "cell_type": "markdown",
   "metadata": {},
   "source": [
    "<div class=\"alert alert-block alert-danger\">\n",
    "<b></b><br><b>Do not</b> use anything earlier than your first trade otherwise there will be no initial value\n",
    "</div>"
   ]
  },
  {
   "cell_type": "code",
   "execution_count": null,
   "metadata": {},
   "outputs": [],
   "source": [
    "initial_date = '2020-01-09'\n",
    "plotlydf_portfval = portf_allvalues[portf_allvalues.index > initial_date]\n",
    "\n",
    "# plotlydf_portfval = portf_allvalues.copy()\n",
    "plotlydf_portfval = plotlydf_portfval[['portf_value', 'sp500_mktvalue', 'ptf_value_pctch',\n",
    "                                     'sp500_pctch', 'ptf_value_diff', 'sp500_diff']].reset_index().round(2)\n",
    "\n",
    "# calculating cumulative growth since initial date\n",
    "plotlydf_portfval.rename(columns={'index': 'date'}, inplace=True)  # needed for later\n",
    "plotlydf_portfval.date = pd.to_datetime(plotlydf_portfval.date)\n",
    "plotlydf_portfval"
   ]
  },
  {
   "cell_type": "code",
   "execution_count": null,
   "metadata": {},
   "outputs": [],
   "source": [
    "# Going to use the column cashflow to calculate a net return on the assets\n",
    "invested_df = (all_transactions.groupby('date').sum()['cashflow']*-1)\n",
    "idx = pd.date_range(all_transactions.date.min(), plotlydf_portfval.date.max())\n",
    "invested_df = invested_df.reindex(idx, fill_value=0).reset_index()\n",
    "invested_df.rename(columns={'index': 'date'}, inplace=True)\n",
    "invested_df['alltime_cashflow'] = invested_df['cashflow'].cumsum()\n",
    "invested_df"
   ]
  },
  {
   "cell_type": "code",
   "execution_count": null,
   "metadata": {},
   "outputs": [],
   "source": [
    "plotlydf_portfval = pd.merge(plotlydf_portfval, invested_df, on='date', how='inner')\n",
    "# net invested will let us know how much we invested during the period in analysis\n",
    "# then we take this out of the portfolio value, to calculate the returns\n",
    "plotlydf_portfval['net_invested'] = plotlydf_portfval['cashflow'].cumsum()\n",
    "plotlydf_portfval['net_value'] = plotlydf_portfval.portf_value - plotlydf_portfval.net_invested\n",
    "plotlydf_portfval['ptf_growth'] = plotlydf_portfval.net_value/plotlydf_portfval['net_value'].iloc[0]\n",
    "plotlydf_portfval['sp500_growth'] = plotlydf_portfval.sp500_mktvalue/plotlydf_portfval['sp500_mktvalue'].iloc[0]\n",
    "# adjusted ptfchg will be the accurate variation (net of investments)\n",
    "plotlydf_portfval['adjusted_ptfchg'] = (plotlydf_portfval['net_value'].pct_change()*100).round(2)\n",
    "plotlydf_portfval['highvalue'] = plotlydf_portfval['net_value'].cummax()\n",
    "plotlydf_portfval['drawdownpct'] = (plotlydf_portfval['net_value']/plotlydf_portfval['highvalue']-1).round(4)*100\n",
    "plotlydf_portfval"
   ]
  },
  {
   "cell_type": "code",
   "execution_count": null,
   "metadata": {},
   "outputs": [],
   "source": [
    "CHART_THEME = 'plotly_dark'  # others include seaborn, ggplot2, plotly_white, plotly_dark"
   ]
  },
  {
   "cell_type": "code",
   "execution_count": null,
   "metadata": {},
   "outputs": [],
   "source": [
    "chart_ptfvalue = go.Figure() # generating a figure that will be updated in the following lines\n",
    "\n",
    "chart_ptfvalue.add_trace(\n",
    "    go.Scatter(\n",
    "        x=plotlydf_portfval.date,\n",
    "        y=plotlydf_portfval.portf_value,\n",
    "        mode='lines',  # you can also use \"lines+markers\", or just \"markers\"\n",
    "        name='Portfolio Value',\n",
    "        hovertemplate = '$ %{y:,.0f}'\n",
    "    )\n",
    ")\n",
    "\n",
    "chart_ptfvalue.add_trace(\n",
    "    go.Scatter(\n",
    "        x=invested_df.date,\n",
    "        y=invested_df.alltime_cashflow,\n",
    "        fill='tozeroy',\n",
    "        fillcolor='rgba(255, 150, 20, 0.3)', # https://www.w3schools.com/css/css_colors_rgb.asp\n",
    "        line = dict(\n",
    "            color='orangered',\n",
    "            width=2,\n",
    "            dash='dash'),\n",
    "        mode='lines',  # you can also use \"lines+markers\", or just \"markers\"\n",
    "        name='Net Invested',\n",
    "        hovertemplate = '$ %{y:,.0f}'\n",
    "    )\n",
    ")\n",
    "\n",
    "\n",
    "chart_ptfvalue.update_layout(\n",
    "    margin = dict(t=50, b=50, l=25, r=25), # this will help you optimize the chart space\n",
    "    xaxis_tickfont_size=12,\n",
    "    yaxis=dict(\n",
    "        title='Value: $ USD',\n",
    "        titlefont_size=14,\n",
    "        tickfont_size=12,\n",
    "        ),\n",
    "    legend=dict(\n",
    "        yanchor=\"top\",\n",
    "        y=0.99,\n",
    "        xanchor=\"left\",\n",
    "        x=0.01),\n",
    "    showlegend=False,\n",
    "#     title='Global Portfolio Value (USD $)',\n",
    "    title_x=0.5, # title centered\n",
    "    paper_bgcolor=\"#272b30\",\n",
    "    plot_bgcolor=\"#272b30\"\n",
    ")\n",
    "\n",
    "\n",
    "# # # Time Series with Range Selector Buttons - https://plotly.com/python/time-series/\n",
    "chart_ptfvalue.update_xaxes(\n",
    "    rangeslider_visible=False,\n",
    "        rangeselector=dict(\n",
    "            buttons=list([\n",
    "                dict(count=7, label=\"1w\", step=\"day\", stepmode=\"backward\"),\n",
    "                dict(count=14, label=\"2w\", step=\"day\", stepmode=\"backward\"),\n",
    "                dict(count=1, label=\"1m\", step=\"month\", stepmode=\"backward\"),\n",
    "                dict(count=6, label=\"6m\", step=\"month\", stepmode=\"backward\"),\n",
    "                dict(count=12, label=\"12m\", step=\"month\", stepmode=\"backward\"),\n",
    "                dict(count=1, label=\"YTD\", step=\"year\", stepmode=\"todate\"),\n",
    "                dict(label='All', step=\"all\"),\n",
    "            ]),\n",
    "            bgcolor=\"#272b30\",\n",
    "            activecolor='tomato',\n",
    "#             y=1.22,\n",
    "#             x=0.25\n",
    "        )\n",
    ")\n",
    "\n",
    "chart_ptfvalue.update_layout(hovermode='x unified')\n",
    "chart_ptfvalue.layout.template = CHART_THEME\n",
    "chart_ptfvalue.layout.height=500\n",
    "\n",
    "chart_ptfvalue.show()"
   ]
  },
  {
   "cell_type": "code",
   "execution_count": null,
   "metadata": {},
   "outputs": [],
   "source": [
    "plotlydf_portfval"
   ]
  },
  {
   "cell_type": "code",
   "execution_count": null,
   "metadata": {},
   "outputs": [],
   "source": [
    "drawdown_chart = go.Figure()  # generating a figure that will be updated in the following lines\n",
    "drawdown_chart.add_trace(\n",
    "    go.Scatter(\n",
    "        x=plotlydf_portfval.date,\n",
    "        y=plotlydf_portfval.drawdownpct,\n",
    "        fill='tozeroy',\n",
    "        fillcolor='tomato',\n",
    "        line = dict(\n",
    "            color='firebrick',\n",
    "            width=2),\n",
    "        mode='lines',  # you can also use \"lines+markers\", or just \"markers\"\n",
    "        name='Drawdown %'))\n",
    "\n",
    "drawdown_chart.update_layout(\n",
    "    margin = dict(t=45, b=30, l=25, r=25),\n",
    "    yaxis=dict(\n",
    "        title='%',\n",
    "        titlefont_size=14,\n",
    "        tickfont_size=12,\n",
    "        ),\n",
    "    title='Drawdown',\n",
    "    title_x=0.5,\n",
    "    paper_bgcolor=\"#272b30\",\n",
    "    plot_bgcolor=\"#272b30\"\n",
    ")\n",
    "\n",
    "drawdown_chart.update_xaxes(\n",
    "    rangeslider_visible=False,\n",
    "        rangeselector=dict(\n",
    "            buttons=list([\n",
    "                dict(count=7, label=\"1w\", step=\"day\", stepmode=\"backward\"),\n",
    "                dict(count=14, label=\"2w\", step=\"day\", stepmode=\"backward\"),\n",
    "                dict(count=1, label=\"1m\", step=\"month\", stepmode=\"backward\"),\n",
    "                dict(count=6, label=\"6m\", step=\"month\", stepmode=\"backward\"),\n",
    "                dict(count=12, label=\"12m\", step=\"month\", stepmode=\"backward\"),\n",
    "                dict(count=1, label=\"YTD\", step=\"year\", stepmode=\"todate\"),\n",
    "                dict(label='All', step=\"all\"),\n",
    "            ]),\n",
    "            bgcolor=\"#272b30\",\n",
    "            activecolor='tomato',\n",
    "#             y=1.02,\n",
    "#             x=0.05\n",
    "        )\n",
    ")\n",
    "\n",
    "drawdown_chart.layout.template = CHART_THEME\n",
    "drawdown_chart.layout.height=250\n",
    "\n",
    "drawdown_chart.show()"
   ]
  },
  {
   "cell_type": "code",
   "execution_count": null,
   "metadata": {},
   "outputs": [],
   "source": [
    "portfolio_cashflow = go.Figure()  # generating a figure that will be updated in the following lines\n",
    "portfolio_cashflow.add_trace(\n",
    "    go.Bar(\n",
    "        x=plotlydf_portfval.date,\n",
    "        y=plotlydf_portfval.cashflow.replace(0,np.nan),\n",
    "        name='Drawdown %',\n",
    "        xperiod=\"M1\",\n",
    "    )\n",
    ")\n",
    "\n",
    "portfolio_cashflow.update_layout(\n",
    "    margin = dict(t=50, b=30, l=25, r=25),\n",
    "    yaxis=dict(\n",
    "        title='$ Value',\n",
    "        titlefont_size=14,\n",
    "        tickfont_size=12,\n",
    "        ),\n",
    "    title='Monthly Buy & Sell Orders',\n",
    "    title_x=0.5,\n",
    "    paper_bgcolor=\"#272b30\",\n",
    "    plot_bgcolor=\"#272b30\"\n",
    ")\n",
    "\n",
    "portfolio_cashflow.update_xaxes(\n",
    "    rangeslider_visible=False,\n",
    "        rangeselector=dict(\n",
    "            buttons=list([\n",
    "                dict(count=7, label=\"1w\", step=\"day\", stepmode=\"backward\"),\n",
    "                dict(count=14, label=\"2w\", step=\"day\", stepmode=\"backward\"),\n",
    "                dict(count=1, label=\"1m\", step=\"month\", stepmode=\"backward\"),\n",
    "                dict(count=6, label=\"6m\", step=\"month\", stepmode=\"backward\"),\n",
    "                dict(count=12, label=\"12m\", step=\"month\", stepmode=\"backward\"),\n",
    "                dict(count=1, label=\"YTD\", step=\"year\", stepmode=\"todate\"),\n",
    "                dict(label='All', step=\"all\"),\n",
    "            ]),\n",
    "            bgcolor=\"#272b30\",\n",
    "            activecolor='tomato',\n",
    "        )\n",
    ")\n",
    "\n",
    "portfolio_cashflow.layout.template = CHART_THEME\n",
    "portfolio_cashflow.layout.height=250\n",
    "portfolio_cashflow.show()"
   ]
  },
  {
   "cell_type": "code",
   "execution_count": null,
   "metadata": {},
   "outputs": [],
   "source": []
  },
  {
   "cell_type": "markdown",
   "metadata": {},
   "source": [
    "### Comparing S&P500 performance with Portfolio Value"
   ]
  },
  {
   "cell_type": "markdown",
   "metadata": {},
   "source": [
    "<div class=\"alert alert-block alert-danger\">\n",
    "<b></b><br>Comparing our portfolio value with the S&P500 is tricky if you have a lot of buy and sell orders, because it causes an <b>\"artificial\" impact on the net value of the portfolio</b>. If you still want to use it, here's the code!\n",
    "</div>"
   ]
  },
  {
   "cell_type": "code",
   "execution_count": null,
   "metadata": {},
   "outputs": [],
   "source": [
    "df = plotlydf_portfval[['date', 'net_value', 'sp500_mktvalue']].copy()\n",
    "df['month'] = df.date.dt.month_name()\n",
    "df['weekday'] = df.date.dt.day_name()\n",
    "df['year'] = df.date.dt.year\n",
    "df['weeknumber'] = df.date.dt.isocalendar().week\n",
    "df['timeperiod'] = df.year.astype(str) + ' - ' + df.date.dt.month.astype(str).str.zfill(2)\n",
    "sp = df.reset_index().groupby('timeperiod').last()['sp500_mktvalue'].pct_change()*100\n",
    "ptf = df.reset_index().groupby('timeperiod').last()['net_value'].pct_change()*100\n",
    "plotlydf_growth_compare = pd.merge(ptf, sp, on='timeperiod').reset_index()\n",
    "plotlydf_growth_compare.head()"
   ]
  },
  {
   "cell_type": "code",
   "execution_count": null,
   "metadata": {},
   "outputs": [],
   "source": [
    "fig_growth2 = go.Figure()\n",
    "fig_growth2.layout.template = CHART_THEME\n",
    "fig_growth2.add_trace(go.Bar(\n",
    "    x=plotlydf_growth_compare.timeperiod,\n",
    "    y=plotlydf_growth_compare.net_value.round(2),\n",
    "    name='Portfolio'\n",
    "))\n",
    "fig_growth2.add_trace(go.Bar(\n",
    "    x=plotlydf_growth_compare.timeperiod,\n",
    "    y=plotlydf_growth_compare.sp500_mktvalue.round(2),\n",
    "    name='S&P 500',\n",
    "))\n",
    "fig_growth2.update_layout(barmode='group')\n",
    "fig_growth2.layout.height=300\n",
    "fig_growth2.update_layout(margin = dict(t=50, b=50, l=25, r=25))\n",
    "fig_growth2.update_layout(\n",
    "    xaxis_tickfont_size=12,\n",
    "    yaxis=dict(\n",
    "        title='% change',\n",
    "        titlefont_size=13,\n",
    "        tickfont_size=12,\n",
    "        ))\n",
    "\n",
    "fig_growth2.update_layout(legend=dict(\n",
    "    yanchor=\"top\",\n",
    "    y=0.99,\n",
    "    xanchor=\"right\",\n",
    "    x=0.99))\n",
    "fig_growth2.update_layout(paper_bgcolor=\"#272b30\", plot_bgcolor=\"#272b30\")\n",
    "fig_growth2.show()"
   ]
  },
  {
   "cell_type": "code",
   "execution_count": null,
   "metadata": {},
   "outputs": [],
   "source": []
  },
  {
   "cell_type": "markdown",
   "metadata": {},
   "source": [
    "## Candlestick Charts"
   ]
  },
  {
   "cell_type": "code",
   "execution_count": null,
   "metadata": {},
   "outputs": [],
   "source": [
    "# https://plotly.com/python/candlestick-charts/"
   ]
  },
  {
   "cell_type": "code",
   "execution_count": null,
   "metadata": {},
   "outputs": [],
   "source": [
    "t = 'AMD'\n",
    "t_candles = pd.read_csv('../outputs/price_hist/{}_price_hist.csv'.format(t))"
   ]
  },
  {
   "cell_type": "code",
   "execution_count": null,
   "metadata": {},
   "outputs": [],
   "source": [
    "# Create subplots and mention plot grid size\n",
    "fig_main = make_subplots(rows=2, cols=1, shared_xaxes=True, \n",
    "               vertical_spacing=0.03, subplot_titles=('OHLC', 'Volume'), \n",
    "               row_width=[0.2, 0.7])\n",
    "fig_main.layout.template = CHART_THEME\n",
    "# Plot OHLC on 1st row\n",
    "fig_main.add_trace(go.Candlestick(x=t_candles[\"date\"], open=t_candles[\"open\"], high=t_candles[\"high\"],\n",
    "                low=t_candles['low'], close=t_candles['close'], name=\"OHLC\", showlegend=False), \n",
    "                row=1, col=1\n",
    ")\n",
    "\n",
    "tx_df = all_transactions[all_transactions.ticker==t]\n",
    "\n",
    "fig_main.add_trace(go.Scatter(\n",
    "    x=tx_df[tx_df.type=='Buy'].date,\n",
    "    y=tx_df[tx_df.type=='Buy'].price,\n",
    "    mode='markers',\n",
    "    name='Buy Orders',\n",
    "    marker=dict(\n",
    "        color='rgba(63, 255, 56, 0.6)',\n",
    "        size=12,\n",
    "        line=dict(\n",
    "            color='black',\n",
    "            width=1\n",
    "        )), showlegend=False))\n",
    "\n",
    "fig_main.add_trace(go.Scatter(\n",
    "    x=tx_df[tx_df.type=='Sell'].date,\n",
    "    y=tx_df[tx_df.type=='Sell'].price,\n",
    "    mode='markers',\n",
    "    name='Sell Orders',\n",
    "    marker=dict(\n",
    "            color='rgba(255, 13, 17, 0.6)',\n",
    "            size=12,\n",
    "            line=dict(\n",
    "                color='black',\n",
    "                width=1\n",
    "            )), showlegend=False))\n",
    "\n",
    "avg_price_df = current_positions.set_index('ticker')\n",
    "avg_price = avg_price_df.loc[t].avg_price\n",
    "res = round((avg_price_df.loc[t].price/avg_price-1)*100, 2)\n",
    "\n",
    "fig_main.update_layout(\n",
    "    yaxis_title='Price $',\n",
    "    shapes = [dict(\n",
    "        x0=0, x1=1, y0=avg_price, y1=avg_price, xref='paper', yref='y',\n",
    "        line_width=1)],\n",
    "    annotations=[dict(\n",
    "        x=0.05, y=avg_price*0.90, xref='paper', yref='y',\n",
    "        showarrow=False, xanchor='left', bgcolor=\"black\",\n",
    "        opacity=0.30, text='Average Price: $ {}<br>Result: {} %'.format(avg_price, res), font={'size':12})]\n",
    ")\n",
    "\n",
    "# Bar trace for volumes on 2nd row without legend\n",
    "fig_main.add_trace(go.Bar(x=t_candles['date'], y=t_candles['volume'], showlegend=False), row=2, col=1)\n",
    "\n",
    "# Do not show OHLC's rangeslider plot \n",
    "fig_main.update(layout_xaxis_rangeslider_visible=False)\n",
    "fig_main.update_layout(margin = dict(t=50, b=50, l=25, r=25))\n",
    "fig_main.update_layout(paper_bgcolor=\"#272b30\", plot_bgcolor=\"#272b30\")\n",
    "\n",
    "fig_main.show()"
   ]
  },
  {
   "cell_type": "code",
   "execution_count": null,
   "metadata": {},
   "outputs": [],
   "source": []
  },
  {
   "cell_type": "code",
   "execution_count": null,
   "metadata": {},
   "outputs": [],
   "source": []
  },
  {
   "cell_type": "markdown",
   "metadata": {},
   "source": [
    "### Setting up the tables for the ticker page\n",
    "\n",
    "\n",
    "- using a dictionary to help us use it dinamycally in Dash later"
   ]
  },
  {
   "cell_type": "code",
   "execution_count": null,
   "metadata": {},
   "outputs": [],
   "source": [
    "tables_df = current_positions.copy()\n",
    "tables_df.columns = ['Ticker', 'Company', 'Sector', 'Industry', 'P/E', 'Perf Week', 'Perf Month', 'Perf Quart',\n",
    "             'Perf Half', 'Perf Year', 'Perf YTD', 'Volatility Week', 'Volatility Month', 'Recom', 'ATR',\n",
    "             'SMA20', 'SMA50', 'SMA200', '52W High', '52W Low', 'RSI', 'Insider Own', 'Insider Trans',\n",
    "             'Inst Own', 'Inst Trans', 'Float Short', 'Short Ratio', 'Dividend', 'LTDebt/Eq', 'Debt/Eq', \n",
    "             'Cumulative Units', 'Cumulative Cost ($)', 'Realized G/L ($)', 'Open Cashflow ($)',\n",
    "             'Price ($)', 'Current Value ($)', 'Average Cost', 'Weight (%)', 'Unrealized ($)', 'Unrealized (%)']"
   ]
  },
  {
   "cell_type": "code",
   "execution_count": null,
   "metadata": {},
   "outputs": [],
   "source": [
    "table_dict = {}\n",
    "for tick in tables_df.Ticker:\n",
    "    table = tables_df[tables_df.Ticker==tick].T.reset_index()\n",
    "    table.columns = ['indicator', tick]\n",
    "    table_dict[tick] = table"
   ]
  },
  {
   "cell_type": "code",
   "execution_count": null,
   "metadata": {},
   "outputs": [],
   "source": [
    "table_dict['AAPL'].iloc[[34,35,37,31,36,39,38,33,32],]"
   ]
  },
  {
   "cell_type": "code",
   "execution_count": null,
   "metadata": {},
   "outputs": [],
   "source": []
  },
  {
   "cell_type": "markdown",
   "metadata": {},
   "source": [
    "## Data Tables and Dash\n",
    "- Quick Demo!"
   ]
  },
  {
   "cell_type": "code",
   "execution_count": null,
   "metadata": {},
   "outputs": [],
   "source": [
    "datatabletotal = tables_df.to_dict('records')\n",
    "cols_total = [{\"name\": i, \"id\": i} for i in tables_df.columns[:10]]\n",
    "datatabletotal"
   ]
  },
  {
   "cell_type": "code",
   "execution_count": null,
   "metadata": {},
   "outputs": [],
   "source": [
    "tableview_table = dash_table.DataTable(\n",
    "    id='total-table',\n",
    "    columns=cols_total,\n",
    "    data=datatabletotal,\n",
    "    filter_action=\"native\",\n",
    "    sort_action=\"native\",\n",
    "    fixed_columns={\n",
    "        'headers': True,\n",
    "        'data': 2\n",
    "    },\n",
    "    style_table={\n",
    "        'minWidth': '100%',\n",
    "        'overflowX': 'auto'\n",
    "    },\n",
    "    style_header={\n",
    "        'backgroundColor': 'rgb(30, 30, 30)',\n",
    "        'color': 'white'\n",
    "    },\n",
    "    style_data={\n",
    "        'backgroundColor': 'rgb(50, 50, 50)',\n",
    "        'color': 'white'\n",
    "    },\n",
    "    style_data_conditional=[\n",
    "        {\n",
    "            'if': {'row_index': 'odd'},\n",
    "            'backgroundColor': 'rgb(80, 80, 80)',\n",
    "        },\n",
    "        {\n",
    "           'if': {'column_id': 'Ticker'},\n",
    "           'width': '25px',\n",
    "           'textAlign': 'left',\n",
    "           'fontWeight' : 'bold'\n",
    "       },\n",
    "       {\n",
    "           'if': {'column_id': 'Company'},\n",
    "           'width': '140px',\n",
    "           'textAlign': 'left',\n",
    "       }\n",
    "    ],\n",
    ")\n"
   ]
  },
  {
   "cell_type": "code",
   "execution_count": null,
   "metadata": {},
   "outputs": [],
   "source": [
    "app = JupyterDash(__name__, external_stylesheets=[dbc.themes.SLATE], suppress_callback_exceptions=True)\n",
    "\n",
    "app.layout = tableview_table\n",
    "if __name__ == \"__main__\":\n",
    "    app.run_server(debug=True, port=8058)"
   ]
  },
  {
   "cell_type": "code",
   "execution_count": null,
   "metadata": {},
   "outputs": [],
   "source": [
    "app._terminate_server_for_port(\"localhost\",8058)"
   ]
  },
  {
   "cell_type": "code",
   "execution_count": null,
   "metadata": {},
   "outputs": [],
   "source": []
  },
  {
   "cell_type": "markdown",
   "metadata": {},
   "source": [
    "## Calculating the KPI's for our indicators"
   ]
  },
  {
   "cell_type": "code",
   "execution_count": null,
   "metadata": {},
   "outputs": [],
   "source": [
    "kpi_portfolio7d_abs = portf_allvalues.tail(7).ptf_value_diff.sum().round(2)\n",
    "kpi_portfolio15d_abs = portf_allvalues.tail(15).ptf_value_diff.sum().round(2)\n",
    "kpi_portfolio30d_abs = portf_allvalues.tail(30).ptf_value_diff.sum().round(2)\n",
    "kpi_portfolio200d_abs = portf_allvalues.tail(200).ptf_value_diff.sum().round(2)\n",
    "kpi_portfolio7d_pct = round(kpi_portfolio7d_abs/portf_allvalues.tail(7).portf_value[0]*100,2)\n",
    "kpi_portfolio15d_pct = round(kpi_portfolio15d_abs/portf_allvalues.tail(15).portf_value[0]*100,2)\n",
    "kpi_portfolio30d_pct = round(kpi_portfolio30d_abs/portf_allvalues.tail(30).portf_value[0]*100,2)\n",
    "kpi_portfolio200d_pct = round(kpi_portfolio200d_abs/portf_allvalues.tail(200).portf_value[0]*100,2)"
   ]
  },
  {
   "cell_type": "code",
   "execution_count": null,
   "metadata": {},
   "outputs": [],
   "source": [
    "kpi_sp500_7d_abs = portf_allvalues.tail(7).sp500_diff.sum().round(2)\n",
    "kpi_sp500_15d_abs = portf_allvalues.tail(15).sp500_diff.sum().round(2)\n",
    "kpi_sp500_30d_abs = portf_allvalues.tail(30).sp500_diff.sum().round(2)\n",
    "kpi_sp500_200d_abs = portf_allvalues.tail(200).sp500_diff.sum().round(2)\n",
    "kpi_sp500_7d_pct = round(kpi_sp500_7d_abs/portf_allvalues.tail(7).sp500_mktvalue[0]*100,2)\n",
    "kpi_sp500_15d_pct = round(kpi_sp500_15d_abs/portf_allvalues.tail(15).sp500_mktvalue[0]*100,2)\n",
    "kpi_sp500_30d_pct = round(kpi_sp500_30d_abs/portf_allvalues.tail(30).sp500_mktvalue[0]*100,2)\n",
    "kpi_sp500_200d_pct = round(kpi_sp500_200d_abs/portf_allvalues.tail(200).sp500_mktvalue[0]*100,2)"
   ]
  },
  {
   "cell_type": "code",
   "execution_count": null,
   "metadata": {
    "scrolled": true
   },
   "outputs": [],
   "source": [
    "indicators_ptf = go.Figure()\n",
    "indicators_ptf.layout.template = CHART_THEME\n",
    "indicators_ptf.add_trace(go.Indicator(\n",
    "    mode = \"number+delta\",\n",
    "    value = kpi_portfolio7d_pct,\n",
    "    number = {'suffix': \" %\"},\n",
    "    title = {\"text\": \"<br><span style='font-size:0.7em;color:gray'>7 Days</span>\"},\n",
    "    delta = {'position': \"bottom\", 'reference': kpi_sp500_7d_pct, 'relative': False},\n",
    "    domain = {'row': 0, 'column': 0}))\n",
    "\n",
    "indicators_ptf.add_trace(go.Indicator(\n",
    "    mode = \"number+delta\",\n",
    "    value = kpi_portfolio15d_pct,\n",
    "    number = {'suffix': \" %\"},\n",
    "    title = {\"text\": \"<span style='font-size:0.7em;color:gray'>15 Days</span>\"},\n",
    "    delta = {'position': \"bottom\", 'reference': kpi_sp500_15d_pct, 'relative': False},\n",
    "    domain = {'row': 1, 'column': 0}))\n",
    "\n",
    "indicators_ptf.add_trace(go.Indicator(\n",
    "    mode = \"number+delta\",\n",
    "    value = kpi_portfolio30d_pct,\n",
    "    number = {'suffix': \" %\"},\n",
    "    title = {\"text\": \"<span style='font-size:0.7em;color:gray'>30 Days</span>\"},\n",
    "    delta = {'position': \"bottom\", 'reference': kpi_sp500_30d_pct, 'relative': False},\n",
    "    domain = {'row': 2, 'column': 0}))\n",
    "\n",
    "indicators_ptf.add_trace(go.Indicator(\n",
    "    mode = \"number+delta\",\n",
    "    value = kpi_portfolio200d_pct,\n",
    "    number = {'suffix': \" %\"},\n",
    "    title = {\"text\": \"<span style='font-size:0.7em;color:gray'>200 Days</span>\"},\n",
    "    delta = {'position': \"bottom\", 'reference': kpi_sp500_200d_pct, 'relative': False},\n",
    "    domain = {'row': 3, 'column': 1}))\n",
    "\n",
    "indicators_ptf.update_layout(\n",
    "    grid = {'rows': 4, 'columns': 1, 'pattern': \"independent\"},\n",
    "    margin=dict(l=50, r=50, t=30, b=30)\n",
    ")\n",
    "indicators_ptf.update_layout(paper_bgcolor=\"#272b30\")"
   ]
  },
  {
   "cell_type": "code",
   "execution_count": null,
   "metadata": {
    "scrolled": true
   },
   "outputs": [],
   "source": [
    "indicators_sp500 = go.Figure()\n",
    "indicators_sp500.layout.template = CHART_THEME\n",
    "indicators_sp500.add_trace(go.Indicator(\n",
    "    mode = \"number+delta\",\n",
    "    value = kpi_sp500_7d_pct,\n",
    "    number = {'suffix': \" %\"},\n",
    "    title = {\"text\": \"<br><span style='font-size:0.7em;color:gray'>7 Days</span>\"},\n",
    "    domain = {'row': 0, 'column': 0}))\n",
    "\n",
    "indicators_sp500.add_trace(go.Indicator(\n",
    "    mode = \"number+delta\",\n",
    "    value = kpi_sp500_15d_pct,\n",
    "    number = {'suffix': \" %\"},\n",
    "    title = {\"text\": \"<span style='font-size:0.7em;color:gray'>15 Days</span>\"},\n",
    "    domain = {'row': 1, 'column': 0}))\n",
    "\n",
    "indicators_sp500.add_trace(go.Indicator(\n",
    "    mode = \"number+delta\",\n",
    "    value = kpi_sp500_30d_pct,\n",
    "    number = {'suffix': \" %\"},\n",
    "    title = {\"text\": \"<span style='font-size:0.7em;color:gray'>30 Days</span>\"},\n",
    "    domain = {'row': 2, 'column': 0}))\n",
    "\n",
    "indicators_sp500.add_trace(go.Indicator(\n",
    "    mode = \"number+delta\",\n",
    "    value = kpi_sp500_200d_pct,\n",
    "    number = {'suffix': \" %\"},\n",
    "    title = {\"text\": \"<span style='font-size:0.7em;color:gray'>200 Days</span>\"},\n",
    "    domain = {'row': 3, 'column': 1}))\n",
    "\n",
    "indicators_sp500.update_layout(\n",
    "    grid = {'rows': 4, 'columns': 1, 'pattern': \"independent\"},\n",
    "    margin=dict(l=50, r=50, t=30, b=30)\n",
    ")\n",
    "\n",
    "indicators_sp500.update_layout(paper_bgcolor=\"#272b30\")"
   ]
  },
  {
   "cell_type": "code",
   "execution_count": null,
   "metadata": {},
   "outputs": [],
   "source": []
  },
  {
   "cell_type": "code",
   "execution_count": null,
   "metadata": {},
   "outputs": [],
   "source": []
  },
  {
   "cell_type": "code",
   "execution_count": null,
   "metadata": {},
   "outputs": [],
   "source": []
  },
  {
   "cell_type": "markdown",
   "metadata": {},
   "source": [
    "## Sunburst Part"
   ]
  },
  {
   "cell_type": "code",
   "execution_count": null,
   "metadata": {},
   "outputs": [],
   "source": [
    "levels = ['ticker', 'industry', 'sector'] # levels used for the hierarchical chart\n",
    "color_columns = ['current_value', 'cml_cost']\n",
    "value_column = 'current_value'\n",
    "current_ptfvalue = \"${:,.2f}\".format(portf_allvalues.portf_value[-1]) # To use later with Dash"
   ]
  },
  {
   "cell_type": "code",
   "execution_count": null,
   "metadata": {},
   "outputs": [],
   "source": [
    "def build_hierarchical_dataframe(df, levels, value_column, color_columns=None, total_name='total'):\n",
    "    \"\"\"\n",
    "    Build a hierarchy of levels for Sunburst or Treemap charts.\n",
    "\n",
    "    Levels are given starting from the bottom to the top of the hierarchy,\n",
    "    ie the last level corresponds to the root.\n",
    "    \"\"\"\n",
    "    df_all_trees = pd.DataFrame(columns=['id', 'parent', 'value', 'color'])\n",
    "    for i, level in enumerate(levels):\n",
    "        df_tree = pd.DataFrame(columns=['id', 'parent', 'value', 'color'])\n",
    "        dfg = df.groupby(levels[i:]).sum()\n",
    "        dfg = dfg.reset_index()\n",
    "        df_tree['id'] = dfg[level].copy()\n",
    "        if i < len(levels) - 1:\n",
    "            df_tree['parent'] = dfg[levels[i+1]].copy()\n",
    "        else:\n",
    "            df_tree['parent'] = total_name\n",
    "        df_tree['value'] = dfg[value_column]\n",
    "        df_tree['color'] = round((dfg[color_columns[0]] / dfg[color_columns[1]]-1)*100, 2)\n",
    "        df_all_trees = df_all_trees.append(df_tree, ignore_index=True)\n",
    "    total = pd.Series(dict(id=total_name, parent='',\n",
    "                              value=df[value_column].sum(),\n",
    "                              color=100*round(df[color_columns[0]].sum() / df[color_columns[1]].sum()-1,2)))\n",
    "    df_all_trees = df_all_trees.append(total, ignore_index=True)\n",
    "    return df_all_trees"
   ]
  },
  {
   "cell_type": "code",
   "execution_count": null,
   "metadata": {},
   "outputs": [],
   "source": [
    "df_all_trees = build_hierarchical_dataframe(current_positions, levels, value_column, color_columns, total_name='Portfolio')"
   ]
  },
  {
   "cell_type": "code",
   "execution_count": null,
   "metadata": {
    "scrolled": false
   },
   "outputs": [],
   "source": [
    "df_all_trees.tail(25)"
   ]
  },
  {
   "cell_type": "code",
   "execution_count": null,
   "metadata": {},
   "outputs": [],
   "source": [
    "average_score = current_positions['current_value'].sum() / current_positions['cml_cost'].sum()-1"
   ]
  },
  {
   "cell_type": "code",
   "execution_count": null,
   "metadata": {},
   "outputs": [],
   "source": [
    "average_score"
   ]
  },
  {
   "cell_type": "code",
   "execution_count": null,
   "metadata": {
    "scrolled": false
   },
   "outputs": [],
   "source": [
    "sunburst_fig = make_subplots(1, 2, specs=[[{\"type\": \"domain\"}, {\"type\": \"domain\"}]],)\n",
    "sunburst_fig.layout.template = CHART_THEME\n",
    "sunburst_fig.add_trace(go.Sunburst(\n",
    "    labels=df_all_trees['id'],\n",
    "    parents=df_all_trees['parent'],\n",
    "    values=df_all_trees['value'],\n",
    "    branchvalues='total',\n",
    "    marker=dict(\n",
    "        colors=df_all_trees['color'],\n",
    "        colorscale='brbg',\n",
    "        cmid=average_score),\n",
    "    hovertemplate='<b>%{label} </b> <br> Size: $ %{value}<br> Variation: %{color:.2f}%',\n",
    "    name=''\n",
    "    ), 1, 1)\n",
    "\n",
    "sunburst_fig.add_trace(go.Sunburst(\n",
    "    labels=df_all_trees['id'],\n",
    "    parents=df_all_trees['parent'],\n",
    "    values=df_all_trees['value'],\n",
    "    branchvalues='total',\n",
    "    marker=dict(\n",
    "        colors=df_all_trees['color'],\n",
    "        colorscale='brbg',\n",
    "        cmid=average_score),\n",
    "    hovertemplate='<b>%{label} </b> <br> Size: $ %{value}<br> Variation: %{color:.2f}%',\n",
    "    maxdepth=2,\n",
    "    name=''\n",
    "    ), 1, 2)\n",
    "\n",
    "sunburst_fig.update_layout(margin=dict(t=10, b=10, r=10, l=10), paper_bgcolor=\"#272b30\")\n",
    "sunburst_fig.show()"
   ]
  },
  {
   "cell_type": "code",
   "execution_count": null,
   "metadata": {},
   "outputs": [],
   "source": [
    "sunburst_all = go.Figure()\n",
    "sunburst_all.layout.template = CHART_THEME\n",
    "sunburst_all.add_trace(go.Sunburst(\n",
    "    labels=df_all_trees['id'],\n",
    "    parents=df_all_trees['parent'],\n",
    "    values=df_all_trees['value'],\n",
    "    branchvalues='total',\n",
    "    marker=dict(\n",
    "        colors=df_all_trees['color'],\n",
    "        colorscale='brbg',\n",
    "        cmid=average_score),\n",
    "    hovertemplate='<b>%{label} </b> <br> Size: $ %{value}<br> Variation: %{color:.2f}%',\n",
    "    name=''\n",
    "    ))\n",
    "sunburst_all.update_layout(paper_bgcolor=\"#272b30\")\n",
    "sunburst_all.update_layout(margin=dict(t=10, b=10, r=10, l=10))\n",
    "sunburst_all.show()"
   ]
  },
  {
   "cell_type": "code",
   "execution_count": null,
   "metadata": {
    "scrolled": false
   },
   "outputs": [],
   "source": [
    "sunburst_fig2 = go.Figure()\n",
    "sunburst_fig2.layout.template = CHART_THEME\n",
    "sunburst_fig2.add_trace(go.Sunburst(\n",
    "    labels=df_all_trees['id'],\n",
    "    parents=df_all_trees['parent'],\n",
    "    values=df_all_trees['value'],\n",
    "    branchvalues='total',\n",
    "    marker=dict(\n",
    "        colors=df_all_trees['color'],\n",
    "        colorscale='mrybm',\n",
    "        cmid=average_score),\n",
    "    hovertemplate='<b>%{label} </b> <br> Size: $ %{value}<br> Variation: %{color:.2f}%',\n",
    "    maxdepth=2,\n",
    "    name=''\n",
    "    ))\n",
    "\n",
    "sunburst_fig2.update_layout(margin=dict(t=10, b=10, r=10, l=10))\n",
    "sunburst_fig2.update_layout(paper_bgcolor=\"#272b30\")\n",
    "sunburst_fig2.show()"
   ]
  },
  {
   "cell_type": "code",
   "execution_count": null,
   "metadata": {
    "scrolled": true
   },
   "outputs": [],
   "source": [
    "# https://plotly.com/python/builtin-colorscales/"
   ]
  },
  {
   "cell_type": "code",
   "execution_count": null,
   "metadata": {},
   "outputs": [],
   "source": []
  },
  {
   "cell_type": "markdown",
   "metadata": {},
   "source": [
    "<div class=\"alert alert-block alert-info text-center\">\n",
    "    <H1> PHASE III </H1>\n",
    "</div>\n",
    "\n",
    "# Dash\n",
    "\n",
    "- Make sure to check the Dash Basics and Dash Bootstrap Themes parts if you are new to Dash!\n",
    "- We are going to create all the pages and add the charts we created in Phase II"
   ]
  },
  {
   "cell_type": "code",
   "execution_count": null,
   "metadata": {},
   "outputs": [],
   "source": [
    "ticker_dict = [{'label': current_positions.company[i], 'value': current_positions.ticker[i]} for i in range(current_positions.shape[0])]\n",
    "first_stock = current_positions.ticker[0]"
   ]
  },
  {
   "cell_type": "code",
   "execution_count": null,
   "metadata": {},
   "outputs": [],
   "source": [
    "SIDEBAR_STYLE = {\n",
    "    'position': 'fixed',\n",
    "    'top': 0,\n",
    "    'left': 0,\n",
    "    'bottom': 0,\n",
    "    'width': '12rem',\n",
    "    'padding': '2rem 1rem',\n",
    "    'background-color': 'rgba(120, 120, 120, 0.4)',\n",
    "}\n",
    "CONTENT_STYLE = {\n",
    "    'margin-left': '15rem',\n",
    "    'margin-right': '2rem',\n",
    "    'padding': '2rem' '1rem',\n",
    "}"
   ]
  },
  {
   "cell_type": "code",
   "execution_count": null,
   "metadata": {},
   "outputs": [],
   "source": [
    "sidebar = html.Div(\n",
    "    [\n",
    "        html.Hr(),\n",
    "        html.P('Investment Tracker v0.95', className='text-center p-3 border border-dark'),\n",
    "        html.Hr(),\n",
    "        dbc.Nav(\n",
    "            [\n",
    "                dbc.NavLink('Portfolio', href=\"/\", active='exact'),\n",
    "                dbc.NavLink('Ticker View', href=\"/tickerpage\", active='exact'),\n",
    "                dbc.NavLink('Sunburst Chart', href=\"/sunburst\", active='exact'),\n",
    "                dbc.NavLink('Table View', href=\"/tableview\", active='exact')\n",
    "            ],\n",
    "            vertical=True,\n",
    "            pills=True,\n",
    "        ),\n",
    "    ],\n",
    "    style=SIDEBAR_STYLE,\n",
    ")"
   ]
  },
  {
   "cell_type": "markdown",
   "metadata": {},
   "source": [
    "## Homepage"
   ]
  },
  {
   "cell_type": "code",
   "execution_count": null,
   "metadata": {},
   "outputs": [],
   "source": [
    "homepage = [\n",
    "    dbc.Row(dbc.Col(html.H2('PORTFOLIO OVERVIEW', className='text-center mb-3 p-3'))),\n",
    "    dbc.Row([\n",
    "        dbc.Col([\n",
    "            html.H5('Portfolio Value vs Net Invested ($USD)', className='text-center'),\n",
    "            html.Div(children=f\"Portfolio Value: {current_ptfvalue}\", className='text-left mb-2'),\n",
    "            dcc.Graph(id='chrt-portfolio-main',\n",
    "                      figure=chart_ptfvalue,\n",
    "                      style={'height': 450},\n",
    "                      className='shadow-lg'\n",
    "                     ),\n",
    "            html.Hr(),\n",
    "\n",
    "        ],\n",
    "            width={'size': 8, 'offset': 0, 'order': 1}),\n",
    "        dbc.Col([\n",
    "            html.H5('Portfolio', className='text-center'),\n",
    "            html.Div(children=\"KPI's\", className='text-center fs-4'),\n",
    "            dcc.Graph(id='indicators-ptf',\n",
    "                      figure=indicators_ptf,\n",
    "                      style={'height': 450},\n",
    "                      className='shadow-lg'),\n",
    "            html.Hr()\n",
    "        ],\n",
    "            width={'size': 2, 'offset': 0, 'order': 2}),\n",
    "        dbc.Col([\n",
    "            html.H5('S&P500', className='text-center'),\n",
    "            html.Div(children=\"KPI's\", className='text-center fs-4'),            \n",
    "            dcc.Graph(id='indicators-sp',\n",
    "                      figure=indicators_sp500,\n",
    "                      style={'height': 450},\n",
    "                      className='shadow-lg'),\n",
    "            html.Hr()\n",
    "        ],\n",
    "            width={'size': 2, 'offset': 0, 'order': 3}),\n",
    "    ]),  # end of second row\n",
    "    dbc.Row([\n",
    "        dbc.Col([\n",
    "            dcc.Graph(id='chrt-portfolio-secondary',\n",
    "                      figure=drawdown_chart,\n",
    "                      style={'height': 300},\n",
    "                      className='shadow-lg'),\n",
    "            html.Hr(),\n",
    "            dcc.Graph(id='chrt-portfolio-third',\n",
    "                      figure=portfolio_cashflow,\n",
    "                      style={'height': 300},\n",
    "                      className='shadow-lg'),\n",
    "        ],\n",
    "            width={'size': 8, 'offset': 0, 'order': 1}),\n",
    "        dbc.Col([\n",
    "            dcc.Graph(id='pie-top15',\n",
    "                      figure=sunburst_fig2,\n",
    "                      style={'height': 630},\n",
    "                      className='shadow-lg'),\n",
    "        ],\n",
    "            width={'size': 4, 'offset': 0, 'order': 2}),\n",
    "    ])\n",
    "\n",
    "]"
   ]
  },
  {
   "cell_type": "markdown",
   "metadata": {},
   "source": [
    "## Stock View"
   ]
  },
  {
   "cell_type": "code",
   "execution_count": null,
   "metadata": {},
   "outputs": [],
   "source": [
    "tickerpage = [\n",
    "    dbc.Row(dbc.Col(html.H2('TICKER VIEW', className='text-center mb-3 p-3'))),\n",
    "    dbc.Row([\n",
    "        dbc.Col([\n",
    "            html.H5('Candlestick chart', className='text-center'),\n",
    "            dcc.Dropdown(\n",
    "                id='ticker-selector',\n",
    "                options=ticker_dict,\n",
    "                value=first_stock,\n",
    "                clearable=False,\n",
    "            ),\n",
    "            dcc.Graph(id='chrt-ticker-main',\n",
    "                      figure=fig_main,\n",
    "                      style={'height': 920},\n",
    "                      className='shadow-lg'),\n",
    "            html.Hr(),\n",
    "\n",
    "        ],\n",
    "            width={'size': 9, 'offset': 0, 'order': 1}),\n",
    "        dbc.Col([\n",
    "#             html.H5('Metrics', className='text-center'),\n",
    "            dash_table.DataTable(id='first-table',\n",
    "                                 columns=[],\n",
    "                                 data=[],\n",
    "                                 style_header = {'display': 'none'},\n",
    "                                 style_data = {'whiteSpace': 'normal',\n",
    "                                               'height': 'auto',\n",
    "                                               'lineHeight': '15px',\n",
    "                                               'border': 'none',\n",
    "                                               'backgroundColor': '#272b30',\n",
    "                                               'color': 'white'\n",
    "#                                                'textAlign': 'center'\n",
    "                                              },\n",
    "                                style_cell_conditional=[\n",
    "                                    {'if': {'column_id': 'indicator'},\n",
    "                                     'width': '40%',\n",
    "                                     'textAlign': 'left',\n",
    "                                     'fontWeight' : 'bold'\n",
    "#                                      'backgroundColor': 'rgba(0, 116, 217, 0.3)',\n",
    "#                                      'color': 'rgba(0,20,80,1)'\n",
    "                                    },\n",
    "                                    ]),\n",
    "            html.Hr(),\n",
    "            dash_table.DataTable(id='second-table',\n",
    "                                 columns=[],\n",
    "                                 data=[],\n",
    "                                 style_header = {'display': 'none'},\n",
    "                                 style_data = {'whiteSpace': 'normal',\n",
    "                                               'height': 'auto',\n",
    "                                               'lineHeight': '15px',\n",
    "                                               'border': 'none',\n",
    "                                               'backgroundColor': '#272b30',\n",
    "                                               'color': 'white'\n",
    "#                                                'textAlign': 'center'\n",
    "                                              },\n",
    "                                style_cell_conditional = [\n",
    "                                     {\n",
    "                                         'if': {'column_id': 'indicator'},\n",
    "                                         'width': '40%',\n",
    "                                         'textAlign': 'left',\n",
    "                                         'fontWeight' : 'bold'\n",
    "                                     }]\n",
    "                                ),\n",
    "            html.Hr(),\n",
    "            dash_table.DataTable(id='third-table',\n",
    "                                 columns=[],\n",
    "                                 data=[],\n",
    "                                 style_header = {'display': 'none'},\n",
    "                                 style_data = {'whiteSpace': 'normal',\n",
    "                                               'height': 'auto',\n",
    "                                               'lineHeight': '15px',\n",
    "                                               'border': 'none',\n",
    "                                               'backgroundColor': '#272b30',\n",
    "                                               'color': 'white'\n",
    "#                                                'textAlign': 'center'\n",
    "                                              },\n",
    "                                 style_cell_conditional = [\n",
    "                                     {\n",
    "                                         'if': {'column_id': 'indicator'},\n",
    "                                         'width': '40%',\n",
    "                                         'textAlign': 'left',\n",
    "                                         'fontWeight' : 'bold'\n",
    "                                     }]\n",
    "                                 ),\n",
    "            html.Hr(),\n",
    "        ],\n",
    "            width={'size': 3, 'offset': 0, 'order': 2}),\n",
    "    ])\n",
    "]"
   ]
  },
  {
   "cell_type": "markdown",
   "metadata": {},
   "source": [
    "## Sunburst Explorer"
   ]
  },
  {
   "cell_type": "code",
   "execution_count": null,
   "metadata": {},
   "outputs": [],
   "source": [
    "sunburstpage = [\n",
    "    dbc.Row(dbc.Col(html.H2('SUNBURST VIEW', className='text-center mb-3 p-3'))),\n",
    "    dbc.Row([\n",
    "        dbc.Col([\n",
    "            html.H5('Explore your portfolio interactively', className='text-left'),\n",
    "            html.Div(children=f\"Portfolio Value: {current_ptfvalue}\", className='text-left'),\n",
    "            html.Hr(),\n",
    "            dcc.Graph(id='chrt-sunburstpage',\n",
    "                      figure=sunburst_all,\n",
    "                      style={'height': 800}),\n",
    "            html.Hr(),\n",
    "\n",
    "        ],\n",
    "            width={'size': 12, 'offset': 0, 'order': 1}),\n",
    "    ]),\n",
    "]"
   ]
  },
  {
   "cell_type": "markdown",
   "metadata": {},
   "source": [
    "## Tables"
   ]
  },
  {
   "cell_type": "code",
   "execution_count": null,
   "metadata": {},
   "outputs": [],
   "source": [
    "tablepage = [\n",
    "    dbc.Row(dbc.Col(html.H2('FULL TABLE VIEW', className='text-center mb-3 p-3'))),\n",
    "    dbc.Row([\n",
    "        dbc.Col([\n",
    "            html.H5('Detailed view about every stock', className='text-left'),\n",
    "            html.Hr(),\n",
    "            tableview_table,\n",
    "            html.Hr(),\n",
    "\n",
    "        ],\n",
    "            width={'size': 12, 'offset': 0, 'order': 1}),\n",
    "    ]),\n",
    "]"
   ]
  },
  {
   "cell_type": "code",
   "execution_count": null,
   "metadata": {},
   "outputs": [],
   "source": []
  },
  {
   "cell_type": "code",
   "execution_count": null,
   "metadata": {},
   "outputs": [],
   "source": [
    "content = html.Div(id='page-content', children=[], style=CONTENT_STYLE)"
   ]
  },
  {
   "cell_type": "code",
   "execution_count": null,
   "metadata": {},
   "outputs": [],
   "source": [
    "app = JupyterDash(__name__, external_stylesheets=[dbc.themes.SLATE], suppress_callback_exceptions=True)\n",
    "\n",
    "app.layout = html.Div([\n",
    "    dcc.Location(id='url'),\n",
    "    sidebar,\n",
    "    content\n",
    "])\n",
    "\n",
    "@app.callback(\n",
    "    Output(\"page-content\", \"children\"),\n",
    "    Input(\"url\", \"pathname\")\n",
    ")\n",
    "def render_page_content(pathname):\n",
    "    if pathname == \"/\":\n",
    "        return homepage\n",
    "\n",
    "    elif pathname == \"/tickerpage\":\n",
    "        return tickerpage\n",
    "\n",
    "    elif pathname == \"/sunburst\":\n",
    "        return sunburstpage\n",
    "\n",
    "    elif pathname == \"/tableview\":\n",
    "        return tablepage\n",
    "\n",
    "\n",
    "@app.callback(\n",
    "    [Output(\"chrt-ticker-main\", \"figure\"),\n",
    "     Output(\"first-table\", \"columns\"), Output(\"first-table\", \"data\"),\n",
    "     Output(\"second-table\", \"columns\"), Output(\"second-table\", \"data\"),\n",
    "     Output(\"third-table\", \"columns\"), Output(\"third-table\", \"data\")\n",
    "    ],\n",
    "    [Input(\"ticker-selector\", \"value\")])\n",
    "def render_tickerchart(value):\n",
    "    t_candles = pd.read_csv('../outputs/price_hist/{}_price_hist.csv'.format(value))\n",
    "    fig_main = make_subplots(rows=2, cols=1, shared_xaxes=True,\n",
    "                             vertical_spacing=0.03, subplot_titles=('OHLC', 'Volume'),\n",
    "                             row_width=[0.2, 0.7])\n",
    "\n",
    "    # Plot OHLC on 1st row\n",
    "    fig_main.add_trace(go.Candlestick(x=t_candles[\"date\"], open=t_candles[\"open\"], high=t_candles[\"high\"],\n",
    "                                      low=t_candles['low'], close=t_candles['close'], name=\"OHLC\", showlegend=False),\n",
    "                       row=1, col=1\n",
    "                       )\n",
    "    avg_price_df = current_positions.set_index('ticker')\n",
    "    avg_price = avg_price_df.loc[value].avg_price\n",
    "    res = round((avg_price_df.loc[value].price / avg_price - 1) * 100, 2)\n",
    "    fig_main.update_layout(\n",
    "        yaxis_title='Price $',\n",
    "        shapes=[dict(\n",
    "            x0=0, x1=1, y0=avg_price, y1=avg_price, xref='paper', yref='y', line_width=1)],\n",
    "        annotations=[dict(\n",
    "            x=0.05, y=avg_price * 0.90, xref='paper', yref='y',\n",
    "            showarrow=False, xanchor='left', bgcolor=\"black\",\n",
    "            opacity=0.35, text='Average Price: $ {}<br>Result: {} %'.format(avg_price, res), font={'size': 12})]\n",
    "    )\n",
    "\n",
    "    # Bar trace for volumes on 2nd row without legend\n",
    "    fig_main.add_trace(go.Bar(x=t_candles['date'], y=t_candles['volume'], showlegend=False), row=2, col=1)\n",
    "    tx_df = all_transactions[all_transactions.ticker==value]\n",
    "    fig_main.add_trace(go.Scatter(\n",
    "        x=tx_df[tx_df.type=='Buy'].date,\n",
    "        y=tx_df[tx_df.type=='Buy'].price,\n",
    "        mode='markers',\n",
    "        name='Buy Orders',\n",
    "        marker=dict(\n",
    "            color='rgba(60, 255, 75, 0.8)',\n",
    "            size=12,\n",
    "            line=dict(\n",
    "                color='white',\n",
    "                width=1\n",
    "            )), showlegend=False))\n",
    "    fig_main.add_trace(go.Scatter(\n",
    "        x=tx_df[tx_df.type=='Sell'].date,\n",
    "        y=tx_df[tx_df.type=='Sell'].price,\n",
    "        mode='markers',\n",
    "        name='Sell Orders',\n",
    "        marker=dict(\n",
    "                color='rgba(255, 20, 40, 0.9)',\n",
    "                size=12,\n",
    "                line=dict(\n",
    "                    color='white',\n",
    "                    width=1\n",
    "                )), showlegend=False))\n",
    "\n",
    "    # Do not show OHLC's rangeslider plot\n",
    "    fig_main.update(layout_xaxis_rangeslider_visible=False)\n",
    "    fig_main.update_layout(margin=dict(t=50, b=50, l=25, r=25))\n",
    "    fig_main.update_layout(paper_bgcolor=\"#272b30\", plot_bgcolor='#272b30')\n",
    "    fig_main.layout.template = CHART_THEME\n",
    "    \n",
    "    datatabletwo = table_dict[value][5:11].to_dict('records')\n",
    "    datatable = table_dict[value].iloc[[0,1,2,3,34,35,37,31,36,39,38,33,32],].to_dict('records')\n",
    "    datatablethree = table_dict[value][18:25].to_dict('records')\n",
    "    cols = [{\"name\": i, \"id\": i} for i in table_dict[value].columns]\n",
    "\n",
    "    return fig_main, cols, datatable, cols, datatabletwo, cols, datatablethree\n",
    "\n",
    "\n",
    "\n",
    "\n",
    "if __name__ == \"__main__\":\n",
    "    app.run_server(debug=True, port=8095)"
   ]
  },
  {
   "cell_type": "code",
   "execution_count": null,
   "metadata": {},
   "outputs": [],
   "source": [
    "app._terminate_server_for_port(\"localhost\",8055)"
   ]
  },
  {
   "cell_type": "code",
   "execution_count": null,
   "metadata": {},
   "outputs": [],
   "source": []
  },
  {
   "cell_type": "code",
   "execution_count": null,
   "metadata": {},
   "outputs": [],
   "source": []
  },
  {
   "cell_type": "code",
   "execution_count": null,
   "metadata": {},
   "outputs": [],
   "source": [
    "app = JupyterDash(__name__, external_stylesheets=[dbc.themes.FLATLY])\n",
    "\n",
    "app.layout = dbc.Container(\n",
    "    [\n",
    "        dbc.Row(dbc.Col(html.H2('PORTFOLIO OVERVIEW', className='text-center text-primary, mb-3'))),\n",
    "        dbc.Row([\n",
    "            dbc.Col([\n",
    "            html.H5('Portfolio Value over Time ($USD)', className='text-center'),\n",
    "            dcc.Graph(id='chrt-portfolio-main',\n",
    "                      figure=chart_ptfvalue,\n",
    "                      style={'height':750}),\n",
    "            html.Hr(),\n",
    "\n",
    "            ],\n",
    "                width={'size': 8, 'offset': 0, 'order': 1}),\n",
    "            dbc.Col([\n",
    "            html.H5('Portfolio', className='text-center'),\n",
    "            dcc.Graph(id='indicators-ptf',\n",
    "                      figure=indicators_ptf,\n",
    "                      style={'height':750}),\n",
    "            html.Hr()\n",
    "            ],\n",
    "                width={'size': 2, 'offset': 0, 'order': 2}),\n",
    "            dbc.Col([\n",
    "            html.H5('S&P500', className='text-center'),\n",
    "            dcc.Graph(id='indicators-sp',\n",
    "                      figure=indicators_sp500,\n",
    "                      style={'height':750}),\n",
    "            html.Hr()\n",
    "            ],\n",
    "                width={'size': 2, 'offset': 0, 'order': 3}),\n",
    "        ]),  # end of second row\n",
    "        dbc.Row([\n",
    "            dbc.Col([\n",
    "                dcc.Graph(id='chrt-portfolio-secondary',\n",
    "                      figure=fig_growth2,\n",
    "                      style={'height':500}),\n",
    "            ],\n",
    "                width={'size': 8, 'offset': 0, 'order': 1}),\n",
    "            dbc.Col([\n",
    "                dcc.Graph(id='pie-top15',\n",
    "                      figure = donut_top,\n",
    "                      style={'height':500}),\n",
    "            ],\n",
    "                width={'size': 4, 'offset': 0, 'order': 2}),\n",
    "        ])\n",
    "        \n",
    "    ], fluid=True)\n",
    "\n",
    "if __name__ == \"__main__\":\n",
    "    app.run_server(debug=True, port=8058)"
   ]
  },
  {
   "cell_type": "code",
   "execution_count": null,
   "metadata": {},
   "outputs": [],
   "source": [
    "app._terminate_server_for_port(\"localhost\",8058)"
   ]
  },
  {
   "cell_type": "code",
   "execution_count": null,
   "metadata": {},
   "outputs": [],
   "source": []
  }
 ],
 "metadata": {
  "kernelspec": {
   "display_name": "Python 3",
   "language": "python",
   "name": "python3"
  },
  "language_info": {
   "codemirror_mode": {
    "name": "ipython",
    "version": 3
   },
   "file_extension": ".py",
   "mimetype": "text/x-python",
   "name": "python",
   "nbconvert_exporter": "python",
   "pygments_lexer": "ipython3",
   "version": "3.11.9"
  }
 },
 "nbformat": 4,
 "nbformat_minor": 2
}
